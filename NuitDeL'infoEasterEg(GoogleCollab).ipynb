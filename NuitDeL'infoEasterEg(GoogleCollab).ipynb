{
  "nbformat": 4,
  "nbformat_minor": 0,
  "metadata": {
    "colab": {
      "name": "NuitDeL'infoEasterEg.ipynb",
      "provenance": [],
      "collapsed_sections": []
    },
    "kernelspec": {
      "name": "python3",
      "display_name": "Python 3"
    },
    "language_info": {
      "name": "python"
    }
  },
  "cells": [
    {
      "cell_type": "markdown",
      "metadata": {
        "id": "yaOYvlrpHjEa"
      },
      "source": [
        "#If you have any problem and you want to restart/refresh images just execute this block "
      ]
    },
    {
      "cell_type": "code",
      "metadata": {
        "id": "EDJ8PCwZGMUc"
      },
      "source": [
        "rm -r EggHiddenSpot"
      ],
      "execution_count": null,
      "outputs": []
    },
    {
      "cell_type": "markdown",
      "metadata": {
        "id": "5N3-NqIvM1Ir"
      },
      "source": [
        "#Else, just execute this one, read it then try your best to find the clue !"
      ]
    },
    {
      "cell_type": "code",
      "metadata": {
        "colab": {
          "base_uri": "https://localhost:8080/"
        },
        "id": "qfXQdoko737c",
        "outputId": "3a407e78-54b4-4273-8465-adf7f4f00e4a"
      },
      "source": [
        "# Modules\n",
        "from math import *\n",
        "import random\n",
        "import numpy as np\n",
        "import matplotlib.pyplot as plt\n",
        "#GIT import\n",
        "!git clone \"https://github.com/Obiasnara/EggHiddenSpot.git\"\n",
        "\n",
        "#Random function ?\n",
        "def display(imglist,size=5, shape=True):\n",
        "  cols = len(imglist)\n",
        "  fig = plt.figure(figsize=(size*cols,size*cols))\n",
        "  for i in range(0,cols):\n",
        "    a = fig.add_subplot(1, cols, i+1)\n",
        "    if len(imglist[i].shape) > 2 :\n",
        "      subfig = plt.imshow(imglist[i], vmin=0.0, vmax=1.0)\n",
        "    else :\n",
        "      subfig = plt.imshow(imglist[i],cmap=\"gray\",vmin=0.0, vmax=1.0)\n",
        "      subfig.axes.get_xaxis().set_visible(False)\n",
        "      subfig.axes.get_yaxis().set_visible(False)\n",
        "    if shape == True:\n",
        "      a.set_title(str(imglist[i].shape))\n",
        "  plt.show()\n",
        "\n",
        "\n",
        "MisteriousImage = plt.imread('/content/EggHiddenSpot/DuckDuckDuuuuuckkkk!!!!.png','r')"
      ],
      "execution_count": null,
      "outputs": [
        {
          "output_type": "stream",
          "name": "stdout",
          "text": [
            "Cloning into 'EggHiddenSpot'...\n",
            "remote: Enumerating objects: 27, done.\u001b[K\n",
            "remote: Counting objects:   3% (1/27)\u001b[K\rremote: Counting objects:   7% (2/27)\u001b[K\rremote: Counting objects:  11% (3/27)\u001b[K\rremote: Counting objects:  14% (4/27)\u001b[K\rremote: Counting objects:  18% (5/27)\u001b[K\rremote: Counting objects:  22% (6/27)\u001b[K\rremote: Counting objects:  25% (7/27)\u001b[K\rremote: Counting objects:  29% (8/27)\u001b[K\rremote: Counting objects:  33% (9/27)\u001b[K\rremote: Counting objects:  37% (10/27)\u001b[K\rremote: Counting objects:  40% (11/27)\u001b[K\rremote: Counting objects:  44% (12/27)\u001b[K\rremote: Counting objects:  48% (13/27)\u001b[K\rremote: Counting objects:  51% (14/27)\u001b[K\rremote: Counting objects:  55% (15/27)\u001b[K\rremote: Counting objects:  59% (16/27)\u001b[K\rremote: Counting objects:  62% (17/27)\u001b[K\rremote: Counting objects:  66% (18/27)\u001b[K\rremote: Counting objects:  70% (19/27)\u001b[K\rremote: Counting objects:  74% (20/27)\u001b[K\rremote: Counting objects:  77% (21/27)\u001b[K\rremote: Counting objects:  81% (22/27)\u001b[K\rremote: Counting objects:  85% (23/27)\u001b[K\rremote: Counting objects:  88% (24/27)\u001b[K\rremote: Counting objects:  92% (25/27)\u001b[K\rremote: Counting objects:  96% (26/27)\u001b[K\rremote: Counting objects: 100% (27/27)\u001b[K\rremote: Counting objects: 100% (27/27), done.\u001b[K\n",
            "remote: Compressing objects: 100% (25/25), done.\u001b[K\n",
            "remote: Total 27 (delta 7), reused 0 (delta 0), pack-reused 0\u001b[K\n",
            "Unpacking objects: 100% (27/27), done.\n"
          ]
        }
      ]
    },
    {
      "cell_type": "code",
      "metadata": {
        "id": "9SAfl2YoHtbd"
      },
      "source": [
        "# This is a Comment\n",
        "# ... Do your code !\n",
        "# What is it used for ?"
      ],
      "execution_count": null,
      "outputs": []
    }
  ]
}